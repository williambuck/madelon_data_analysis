{
 "cells": [
  {
   "cell_type": "code",
   "execution_count": 37,
   "metadata": {},
   "outputs": [],
   "source": [
    "# The madelon_analyzer includes all of the imports and the madelone_analyzer class that has all functions I've \n",
    "# been using for analysis.\n",
    "%run madelon_analyzer\n",
    "\n",
    "# contains the train, test, and val sets as dataframes, as well as lists of features found during the feature \n",
    "# importance section\n",
    "%run Expanded_madelon_dataframes_and_features.py\n",
    "\n",
    "%matplotlib inline"
   ]
  },
  {
   "cell_type": "code",
   "execution_count": 6,
   "metadata": {},
   "outputs": [],
   "source": [
    "train_df = results_103_100000rows_df.iloc[:20000,:]\n",
    "val_df = results_103_100000rows_df.iloc[20000:26000,:]"
   ]
  },
  {
   "cell_type": "code",
   "execution_count": 7,
   "metadata": {},
   "outputs": [],
   "source": [
    "MA = madelon_analyzer(train_df,val_df)"
   ]
  },
  {
   "cell_type": "code",
   "execution_count": 8,
   "metadata": {},
   "outputs": [],
   "source": [
    "MA_20000_score_df = MA.mean_r2_for_all_features(train_df, DecisionTreeRegressor)"
   ]
  },
  {
   "cell_type": "code",
   "execution_count": 22,
   "metadata": {},
   "outputs": [
    {
     "name": "stderr",
     "output_type": "stream",
     "text": [
      "/opt/conda/lib/python3.6/site-packages/ipykernel_launcher.py:2: SettingWithCopyWarning: \n",
      "A value is trying to be set on a copy of a slice from a DataFrame.\n",
      "Try using .loc[row_indexer,col_indexer] = value instead\n",
      "\n",
      "See the caveats in the documentation: http://pandas.pydata.org/pandas-docs/stable/indexing.html#indexing-view-versus-copy\n",
      "  \n"
     ]
    }
   ],
   "source": [
    "new_MA_20000_score_df = MA_20000_score_df[:25]\n",
    "new_MA_20000_score_df['feature'] = train_df[MA_20000_score_df[:25].index].columns"
   ]
  },
  {
   "cell_type": "code",
   "execution_count": 23,
   "metadata": {},
   "outputs": [
    {
     "data": {
      "text/html": [
       "<div>\n",
       "<table border=\"1\" class=\"dataframe\">\n",
       "  <thead>\n",
       "    <tr style=\"text-align: right;\">\n",
       "      <th></th>\n",
       "      <th>r2_score</th>\n",
       "      <th>feature</th>\n",
       "    </tr>\n",
       "  </thead>\n",
       "  <tbody>\n",
       "    <tr>\n",
       "      <th>67</th>\n",
       "      <td>0.990509</td>\n",
       "      <td>feat_639</td>\n",
       "    </tr>\n",
       "    <tr>\n",
       "      <th>97</th>\n",
       "      <td>0.988641</td>\n",
       "      <td>feat_956</td>\n",
       "    </tr>\n",
       "    <tr>\n",
       "      <th>23</th>\n",
       "      <td>0.985173</td>\n",
       "      <td>feat_269</td>\n",
       "    </tr>\n",
       "    <tr>\n",
       "      <th>87</th>\n",
       "      <td>0.980179</td>\n",
       "      <td>feat_867</td>\n",
       "    </tr>\n",
       "    <tr>\n",
       "      <th>36</th>\n",
       "      <td>0.979375</td>\n",
       "      <td>feat_341</td>\n",
       "    </tr>\n",
       "    <tr>\n",
       "      <th>43</th>\n",
       "      <td>0.976142</td>\n",
       "      <td>feat_395</td>\n",
       "    </tr>\n",
       "    <tr>\n",
       "      <th>93</th>\n",
       "      <td>0.970617</td>\n",
       "      <td>feat_920</td>\n",
       "    </tr>\n",
       "    <tr>\n",
       "      <th>73</th>\n",
       "      <td>0.967101</td>\n",
       "      <td>feat_724</td>\n",
       "    </tr>\n",
       "    <tr>\n",
       "      <th>71</th>\n",
       "      <td>0.966585</td>\n",
       "      <td>feat_701</td>\n",
       "    </tr>\n",
       "    <tr>\n",
       "      <th>31</th>\n",
       "      <td>0.964912</td>\n",
       "      <td>feat_315</td>\n",
       "    </tr>\n",
       "    <tr>\n",
       "      <th>34</th>\n",
       "      <td>0.963006</td>\n",
       "      <td>feat_336</td>\n",
       "    </tr>\n",
       "    <tr>\n",
       "      <th>74</th>\n",
       "      <td>0.960983</td>\n",
       "      <td>feat_736</td>\n",
       "    </tr>\n",
       "    <tr>\n",
       "      <th>21</th>\n",
       "      <td>0.95288</td>\n",
       "      <td>feat_257</td>\n",
       "    </tr>\n",
       "    <tr>\n",
       "      <th>80</th>\n",
       "      <td>0.950582</td>\n",
       "      <td>feat_808</td>\n",
       "    </tr>\n",
       "    <tr>\n",
       "      <th>58</th>\n",
       "      <td>0.949982</td>\n",
       "      <td>feat_504</td>\n",
       "    </tr>\n",
       "    <tr>\n",
       "      <th>76</th>\n",
       "      <td>0.949542</td>\n",
       "      <td>feat_769</td>\n",
       "    </tr>\n",
       "    <tr>\n",
       "      <th>83</th>\n",
       "      <td>0.945805</td>\n",
       "      <td>feat_829</td>\n",
       "    </tr>\n",
       "    <tr>\n",
       "      <th>28</th>\n",
       "      <td>0.944273</td>\n",
       "      <td>feat_308</td>\n",
       "    </tr>\n",
       "    <tr>\n",
       "      <th>60</th>\n",
       "      <td>0.941839</td>\n",
       "      <td>feat_526</td>\n",
       "    </tr>\n",
       "    <tr>\n",
       "      <th>70</th>\n",
       "      <td>0.930325</td>\n",
       "      <td>feat_681</td>\n",
       "    </tr>\n",
       "    <tr>\n",
       "      <th>92</th>\n",
       "      <td>-1.03003</td>\n",
       "      <td>feat_898</td>\n",
       "    </tr>\n",
       "    <tr>\n",
       "      <th>79</th>\n",
       "      <td>-1.03669</td>\n",
       "      <td>feat_789</td>\n",
       "    </tr>\n",
       "    <tr>\n",
       "      <th>62</th>\n",
       "      <td>-1.03962</td>\n",
       "      <td>feat_553</td>\n",
       "    </tr>\n",
       "    <tr>\n",
       "      <th>35</th>\n",
       "      <td>-1.04052</td>\n",
       "      <td>feat_337</td>\n",
       "    </tr>\n",
       "    <tr>\n",
       "      <th>64</th>\n",
       "      <td>-1.04556</td>\n",
       "      <td>feat_595</td>\n",
       "    </tr>\n",
       "  </tbody>\n",
       "</table>\n",
       "</div>"
      ],
      "text/plain": [
       "    r2_score   feature\n",
       "67  0.990509  feat_639\n",
       "97  0.988641  feat_956\n",
       "23  0.985173  feat_269\n",
       "87  0.980179  feat_867\n",
       "36  0.979375  feat_341\n",
       "43  0.976142  feat_395\n",
       "93  0.970617  feat_920\n",
       "73  0.967101  feat_724\n",
       "71  0.966585  feat_701\n",
       "31  0.964912  feat_315\n",
       "34  0.963006  feat_336\n",
       "74  0.960983  feat_736\n",
       "21   0.95288  feat_257\n",
       "80  0.950582  feat_808\n",
       "58  0.949982  feat_504\n",
       "76  0.949542  feat_769\n",
       "83  0.945805  feat_829\n",
       "28  0.944273  feat_308\n",
       "60  0.941839  feat_526\n",
       "70  0.930325  feat_681\n",
       "92  -1.03003  feat_898\n",
       "79  -1.03669  feat_789\n",
       "62  -1.03962  feat_553\n",
       "35  -1.04052  feat_337\n",
       "64  -1.04556  feat_595"
      ]
     },
     "execution_count": 23,
     "metadata": {},
     "output_type": "execute_result"
    }
   ],
   "source": [
    "new_MA_20000_score_df"
   ]
  },
  {
   "cell_type": "code",
   "execution_count": 32,
   "metadata": {},
   "outputs": [
    {
     "data": {
      "text/plain": [
       "Index(['feat_639', 'feat_956', 'feat_269', 'feat_867', 'feat_341', 'feat_395',\n",
       "       'feat_920', 'feat_724', 'feat_701', 'feat_315', 'feat_336', 'feat_736',\n",
       "       'feat_257', 'feat_808', 'feat_504', 'feat_769', 'feat_829', 'feat_308',\n",
       "       'feat_526', 'feat_681'],\n",
       "      dtype='object')"
      ]
     },
     "execution_count": 32,
     "metadata": {},
     "output_type": "execute_result"
    }
   ],
   "source": [
    "my_features = train_df[MA_20000_score_df[:20].index].columns\n",
    "my_features"
   ]
  },
  {
   "cell_type": "code",
   "execution_count": 34,
   "metadata": {},
   "outputs": [
    {
     "data": {
      "text/html": [
       "<div>\n",
       "<table border=\"1\" class=\"dataframe\">\n",
       "  <thead>\n",
       "    <tr style=\"text-align: right;\">\n",
       "      <th></th>\n",
       "      <th>train_score</th>\n",
       "      <th>val_score</th>\n",
       "    </tr>\n",
       "  </thead>\n",
       "  <tbody>\n",
       "    <tr>\n",
       "      <th>my_features</th>\n",
       "      <td>0.8802</td>\n",
       "      <td>0.830333</td>\n",
       "    </tr>\n",
       "  </tbody>\n",
       "</table>\n",
       "</div>"
      ],
      "text/plain": [
       "             train_score  val_score\n",
       "my_features       0.8802   0.830333"
      ]
     },
     "execution_count": 34,
     "metadata": {},
     "output_type": "execute_result"
    }
   ],
   "source": [
    "MA.train_val_scorer_df_maker(my_features, 'my_features').T"
   ]
  },
  {
   "cell_type": "code",
   "execution_count": 29,
   "metadata": {},
   "outputs": [],
   "source": [
    "X_train = results_103_100000rows_df[my_features][:10000]\n",
    "X_val = results_103_100000rows_df[my_features][10000:13000]\n",
    "y_train = results_103_100000rows_df['target'][:10000]\n",
    "y_val = results_103_100000rows_df['target'][10000:13000]\n",
    "\n",
    "knc_params = {\n",
    "    'n_neighbors':range(3,30,2),\n",
    "    'p':[1,2]\n",
    "    \n",
    "}\n",
    "\n",
    "rf_params = {\n",
    "    'criterion':['gini','entropy'],\n",
    "    'max_depth':[None,2,3,4,5,20,100],\n",
    "    \n",
    "}\n",
    "\n",
    "knc_roc = GridSearchCV(KNeighborsClassifier(n_jobs=-1), knc_params)\n",
    "rf_roc = GridSearchCV(RandomForestClassifier(n_jobs=-1), rf_params)\n",
    "\n",
    "rf_roc.fit(X_train, y_train)\n",
    "knc_roc.fit(X_train, y_train)\n",
    "\n",
    "y_preds = knc_roc.predict(X_val)\n",
    "y_proba = knc_roc.predict_proba(X_val)\n",
    "\n",
    "y_preds_rf = rf_roc.predict(X_val)\n",
    "y_proba_rf = rf_roc.predict_proba(X_val)\n",
    "\n",
    "print('KNC Score: {}  | RandomForest Score: '\\\n",
    "      .format(roc_auc_score(y_val, y_preds), roc_auc_score(y_val, y_preds_rf)))\n",
    "print('\\n_____________________________\\n')\n",
    "print('KNC params: {}  | RandomForest params: '\\\n",
    "      .format(knc_roc.best_params_, rf_roc.best_params_))"
   ]
  },
  {
   "cell_type": "code",
   "execution_count": 30,
   "metadata": {},
   "outputs": [
    {
     "data": {
      "text/plain": [
       "(0.80964229887673123, 0.79238014516760602)"
      ]
     },
     "execution_count": 30,
     "metadata": {},
     "output_type": "execute_result"
    }
   ],
   "source": [
    "roc_auc_score(y_val, y_preds), roc_auc_score(y_val, y_preds_rf)"
   ]
  },
  {
   "cell_type": "code",
   "execution_count": 31,
   "metadata": {},
   "outputs": [
    {
     "data": {
      "text/plain": [
       "({'criterion': 'gini', 'max_depth': 20}, {'n_neighbors': 7, 'p': 2})"
      ]
     },
     "execution_count": 31,
     "metadata": {},
     "output_type": "execute_result"
    }
   ],
   "source": [
    "rf_roc.best_params_, knc_roc.best_params_"
   ]
  },
  {
   "cell_type": "code",
   "execution_count": 38,
   "metadata": {},
   "outputs": [
    {
     "data": {
      "text/html": [
       "<div>\n",
       "<table border=\"1\" class=\"dataframe\">\n",
       "  <thead>\n",
       "    <tr style=\"text-align: right;\">\n",
       "      <th></th>\n",
       "      <th>feats_extracted_from_10000_samp_r2</th>\n",
       "    </tr>\n",
       "  </thead>\n",
       "  <tbody>\n",
       "    <tr>\n",
       "      <th>train_score</th>\n",
       "      <td>0.880200</td>\n",
       "    </tr>\n",
       "    <tr>\n",
       "      <th>val_score</th>\n",
       "      <td>0.830333</td>\n",
       "    </tr>\n",
       "  </tbody>\n",
       "</table>\n",
       "</div>"
      ],
      "text/plain": [
       "             feats_extracted_from_10000_samp_r2\n",
       "train_score                            0.880200\n",
       "val_score                              0.830333"
      ]
     },
     "execution_count": 38,
     "metadata": {},
     "output_type": "execute_result"
    }
   ],
   "source": [
    "MA.train_val_scorer_df_maker(feats_extracted_from_10000_samp_r2, 'feats_extracted_from_10000_samp_r2')"
   ]
  },
  {
   "cell_type": "code",
   "execution_count": 50,
   "metadata": {},
   "outputs": [],
   "source": [
    "rf_params = {\n",
    "    'criterion':['entropy'],\n",
    "    'max_depth':[20,30,40,50],\n",
    "    \n",
    "}\n",
    "\n",
    "feats_extracted_from_10000_samp_train_val_score = MA.train_val_scorer_df_maker(feats_extracted_from_10000_samp_r2, 'feats_extracted_from_10000_samp_r2', \\\n",
    "                            KNeighborsClassifier, knc_params)"
   ]
  },
  {
   "cell_type": "code",
   "execution_count": 51,
   "metadata": {},
   "outputs": [
    {
     "data": {
      "text/html": [
       "<div>\n",
       "<table border=\"1\" class=\"dataframe\">\n",
       "  <thead>\n",
       "    <tr style=\"text-align: right;\">\n",
       "      <th></th>\n",
       "      <th>feats_extracted_from_10000_samp_r2</th>\n",
       "    </tr>\n",
       "  </thead>\n",
       "  <tbody>\n",
       "    <tr>\n",
       "      <th>train_score</th>\n",
       "      <td>0.871000</td>\n",
       "    </tr>\n",
       "    <tr>\n",
       "      <th>val_score</th>\n",
       "      <td>0.828333</td>\n",
       "    </tr>\n",
       "  </tbody>\n",
       "</table>\n",
       "</div>"
      ],
      "text/plain": [
       "             feats_extracted_from_10000_samp_r2\n",
       "train_score                            0.871000\n",
       "val_score                              0.828333"
      ]
     },
     "execution_count": 51,
     "metadata": {},
     "output_type": "execute_result"
    }
   ],
   "source": [
    "feats_extracted_from_10000_samp_train_val_score"
   ]
  },
  {
   "cell_type": "code",
   "execution_count": 52,
   "metadata": {},
   "outputs": [
    {
     "data": {
      "text/plain": [
       "{'n_neighbors': 7, 'p': 2}"
      ]
     },
     "execution_count": 52,
     "metadata": {},
     "output_type": "execute_result"
    }
   ],
   "source": [
    "MA.best_params_"
   ]
  },
  {
   "cell_type": "markdown",
   "metadata": {},
   "source": [
    "## Feature Importance"
   ]
  },
  {
   "cell_type": "code",
   "execution_count": 125,
   "metadata": {},
   "outputs": [],
   "source": [
    "feats_extracted_from_10000_samp_r2 = ['feat_639', 'feat_956', 'feat_269', 'feat_867', 'feat_341', 'feat_395',\n",
    "       'feat_920', 'feat_724', 'feat_701', 'feat_315', 'feat_336', 'feat_736',\n",
    "       'feat_257', 'feat_808', 'feat_504', 'feat_769', 'feat_829', 'feat_308',\n",
    "       'feat_526', 'feat_681']\n",
    "\n",
    "second_best_score_ = \\\n",
    "['feat_920',\n",
    " 'feat_681',\n",
    " 'feat_736',\n",
    " 'feat_808',\n",
    " 'feat_701',\n",
    " 'feat_257',\n",
    " 'feat_526',\n",
    " 'feat_829',\n",
    " 'feat_724',\n",
    " 'feat_269',\n",
    " 'feat_395',\n",
    " 'feat_341',\n",
    " 'feat_308'] # val .833833\n",
    "\n",
    "best_score_ = \\\n",
    "['feat_867',\n",
    " 'feat_526',\n",
    " 'feat_920',\n",
    " 'feat_829',\n",
    " 'feat_395',\n",
    " 'feat_269',\n",
    " 'feat_639',\n",
    " 'feat_681',\n",
    " 'feat_504',\n",
    " 'feat_808',\n",
    " 'feat_724',\n",
    " 'feat_769',\n",
    " 'feat_308',\n",
    " 'feat_956'] # val .83450"
   ]
  },
  {
   "cell_type": "code",
   "execution_count": 123,
   "metadata": {},
   "outputs": [
    {
     "data": {
      "image/png": "[encoded data removed]",
      "text/plain": [
       "<matplotlib.figure.Figure at 0x7f7332608c88>"
      ]
     },
     "metadata": {},
     "output_type": "display_data"
    },
    {
     "data": {
      "image/png": "[encoded data removed]",
      "text/plain": [
       "<matplotlib.figure.Figure at 0x7f73326a74e0>"
      ]
     },
     "metadata": {},
     "output_type": "display_data"
    },
    {
     "name": "stdout",
     "output_type": "stream",
     "text": [
      "TOP RANDOMIZED NOISE FEATURES: ['feat_269', 'feat_395', 'feat_639', 'feat_724', 'feat_769']\n"
     ]
    }
   ],
   "source": [
    "fi_scores_bd_RFE_cols = MA.list_top_dipped_feats(best_score_,\\\n",
    "                                            KNeighborsClassifier,\\\n",
    "                                            params={'n_neighbors':[7]},\\\n",
    "                                            noise=True,\\\n",
    "                                            random=True,\\\n",
    "                                            n_feats_return=3)"
   ]
  },
  {
   "cell_type": "code",
   "execution_count": 126,
   "metadata": {},
   "outputs": [
    {
     "data": {
      "text/html": [
       "<div>\n",
       "<table border=\"1\" class=\"dataframe\">\n",
       "  <thead>\n",
       "    <tr style=\"text-align: right;\">\n",
       "      <th></th>\n",
       "      <th>with_noise_removal</th>\n",
       "    </tr>\n",
       "  </thead>\n",
       "  <tbody>\n",
       "    <tr>\n",
       "      <th>train_score</th>\n",
       "      <td>0.869850</td>\n",
       "    </tr>\n",
       "    <tr>\n",
       "      <th>val_score</th>\n",
       "      <td>0.829667</td>\n",
       "    </tr>\n",
       "  </tbody>\n",
       "</table>\n",
       "</div>"
      ],
      "text/plain": [
       "             with_noise_removal\n",
       "train_score            0.869850\n",
       "val_score              0.829667"
      ]
     },
     "execution_count": 126,
     "metadata": {},
     "output_type": "execute_result"
    }
   ],
   "source": [
    "good_cols = MA.removerizer(feats_extracted_from_10000_samp_r2, fi_scores_bd_RFE_cols)\n",
    "good_cols_df = MA.train_val_scorer_df_maker(good_cols, 'with_noise_removal', params={'n_neighbors':[7]})\n",
    "good_cols_df"
   ]
  },
  {
   "cell_type": "code",
   "execution_count": null,
   "metadata": {},
   "outputs": [],
   "source": [
    "MA.best_params_"
   ]
  },
  {
   "cell_type": "code",
   "execution_count": null,
   "metadata": {},
   "outputs": [],
   "source": [
    "good_cols"
   ]
  },
  {
   "cell_type": "code",
   "execution_count": 88,
   "metadata": {},
   "outputs": [
    {
     "data": {
      "text/html": [
       "<div>\n",
       "<table border=\"1\" class=\"dataframe\">\n",
       "  <thead>\n",
       "    <tr style=\"text-align: right;\">\n",
       "      <th></th>\n",
       "      <th>real_feats</th>\n",
       "    </tr>\n",
       "  </thead>\n",
       "  <tbody>\n",
       "    <tr>\n",
       "      <th>train_score</th>\n",
       "      <td>0.863400</td>\n",
       "    </tr>\n",
       "    <tr>\n",
       "      <th>val_score</th>\n",
       "      <td>0.833833</td>\n",
       "    </tr>\n",
       "  </tbody>\n",
       "</table>\n",
       "</div>"
      ],
      "text/plain": [
       "             real_feats\n",
       "train_score    0.863400\n",
       "val_score      0.833833"
      ]
     },
     "execution_count": 88,
     "metadata": {},
     "output_type": "execute_result"
    }
   ],
   "source": [
    "good_cols_df = MA.train_val_scorer_df_maker(second_best_score_, 'real_feats', params={'n_neighbors':range(3,20,2)})\n",
    "good_cols_df"
   ]
  },
  {
   "cell_type": "code",
   "execution_count": 110,
   "metadata": {},
   "outputs": [
    {
     "name": "stdout",
     "output_type": "stream",
     "text": [
      "Number of combinations: 1287\n"
     ]
    }
   ],
   "source": [
    "MA_bf = MA.brute_force_feature_combination_score_generator(best_score_, KNeighborsClassifier, n_feats=5, \\\n",
    "                                                          params={'n_neighbors':[7]})"
   ]
  },
  {
   "cell_type": "code",
   "execution_count": 111,
   "metadata": {},
   "outputs": [
    {
     "data": {
      "text/html": [
       "<div>\n",
       "<table border=\"1\" class=\"dataframe\">\n",
       "  <thead>\n",
       "    <tr style=\"text-align: right;\">\n",
       "      <th></th>\n",
       "      <th>features</th>\n",
       "      <th>train_score</th>\n",
       "      <th>val_score</th>\n",
       "    </tr>\n",
       "  </thead>\n",
       "  <tbody>\n",
       "    <tr>\n",
       "      <th>['feat_920', 'feat_681', 'feat_736', 'feat_808', 'feat_526']</th>\n",
       "      <td>[feat_920, feat_681, feat_736, feat_808, feat_...</td>\n",
       "      <td>0.8685</td>\n",
       "      <td>0.8365</td>\n",
       "    </tr>\n",
       "    <tr>\n",
       "      <th>['feat_920', 'feat_681', 'feat_736', 'feat_257', 'feat_526']</th>\n",
       "      <td>[feat_920, feat_681, feat_736, feat_257, feat_...</td>\n",
       "      <td>0.87335</td>\n",
       "      <td>0.835167</td>\n",
       "    </tr>\n",
       "    <tr>\n",
       "      <th>['feat_920', 'feat_681', 'feat_808', 'feat_526', 'feat_395']</th>\n",
       "      <td>[feat_920, feat_681, feat_808, feat_526, feat_...</td>\n",
       "      <td>0.87</td>\n",
       "      <td>0.8335</td>\n",
       "    </tr>\n",
       "    <tr>\n",
       "      <th>['feat_681', 'feat_736', 'feat_808', 'feat_526', 'feat_829']</th>\n",
       "      <td>[feat_681, feat_736, feat_808, feat_526, feat_...</td>\n",
       "      <td>0.8688</td>\n",
       "      <td>0.833333</td>\n",
       "    </tr>\n",
       "    <tr>\n",
       "      <th>['feat_681', 'feat_736', 'feat_701', 'feat_257', 'feat_341']</th>\n",
       "      <td>[feat_681, feat_736, feat_701, feat_257, feat_...</td>\n",
       "      <td>0.8709</td>\n",
       "      <td>0.833167</td>\n",
       "    </tr>\n",
       "  </tbody>\n",
       "</table>\n",
       "</div>"
      ],
      "text/plain": [
       "                                                                                             features  \\\n",
       "['feat_920', 'feat_681', 'feat_736', 'feat_808'...  [feat_920, feat_681, feat_736, feat_808, feat_...   \n",
       "['feat_920', 'feat_681', 'feat_736', 'feat_257'...  [feat_920, feat_681, feat_736, feat_257, feat_...   \n",
       "['feat_920', 'feat_681', 'feat_808', 'feat_526'...  [feat_920, feat_681, feat_808, feat_526, feat_...   \n",
       "['feat_681', 'feat_736', 'feat_808', 'feat_526'...  [feat_681, feat_736, feat_808, feat_526, feat_...   \n",
       "['feat_681', 'feat_736', 'feat_701', 'feat_257'...  [feat_681, feat_736, feat_701, feat_257, feat_...   \n",
       "\n",
       "                                                   train_score val_score  \n",
       "['feat_920', 'feat_681', 'feat_736', 'feat_808'...      0.8685    0.8365  \n",
       "['feat_920', 'feat_681', 'feat_736', 'feat_257'...     0.87335  0.835167  \n",
       "['feat_920', 'feat_681', 'feat_808', 'feat_526'...        0.87    0.8335  \n",
       "['feat_681', 'feat_736', 'feat_808', 'feat_526'...      0.8688  0.833333  \n",
       "['feat_681', 'feat_736', 'feat_701', 'feat_257'...      0.8709  0.833167  "
      ]
     },
     "execution_count": 111,
     "metadata": {},
     "output_type": "execute_result"
    }
   ],
   "source": [
    "MA_bf.head()"
   ]
  },
  {
   "cell_type": "code",
   "execution_count": 116,
   "metadata": {},
   "outputs": [
    {
     "name": "stdout",
     "output_type": "stream",
     "text": [
      "KNC Score:0.8139772821719228  | RandomForest Score:0.7721288152497543\n",
      "\n",
      "_____________________________\n",
      "\n",
      "KNC params:{'n_neighbors': 5, 'p': 2}  | RandomForest params:{'criterion': 'gini', 'max_depth': 100}\n"
     ]
    }
   ],
   "source": [
    "X_train = results_103_100000rows_df[MA_bf['features'][0]][:10000]\n",
    "X_val = results_103_100000rows_df[MA_bf['features'][0]][10000:13000]\n",
    "y_train = results_103_100000rows_df['target'][:10000]\n",
    "y_val = results_103_100000rows_df['target'][10000:13000]\n",
    "\n",
    "knc_params = {\n",
    "    'n_neighbors':range(3,30,2),\n",
    "    'p':[1,2]\n",
    "    \n",
    "}\n",
    "\n",
    "rf_params = {\n",
    "    'criterion':['gini','entropy'],\n",
    "    'max_depth':[None,2,3,4,5,20,100],\n",
    "    \n",
    "}\n",
    "\n",
    "knc_roc = GridSearchCV(KNeighborsClassifier(n_jobs=-1), knc_params)\n",
    "rf_roc = GridSearchCV(RandomForestClassifier(n_jobs=-1), rf_params)\n",
    "\n",
    "rf_roc.fit(X_train, y_train)\n",
    "knc_roc.fit(X_train, y_train)\n",
    "\n",
    "y_preds = knc_roc.predict(X_val)\n",
    "y_proba = knc_roc.predict_proba(X_val)\n",
    "\n",
    "y_preds_rf = rf_roc.predict(X_val)\n",
    "y_proba_rf = rf_roc.predict_proba(X_val)\n",
    "\n",
    "print('KNC Score:{}  | RandomForest Score:{}'\\\n",
    "      .format(roc_auc_score(y_val, y_preds), roc_auc_score(y_val, y_preds_rf)))\n",
    "print('\\n_____________________________\\n')\n",
    "print('KNC params:{}  | RandomForest params:{}'\\\n",
    "      .format(knc_roc.best_params_, rf_roc.best_params_))"
   ]
  },
  {
   "cell_type": "code",
   "execution_count": null,
   "metadata": {},
   "outputs": [],
   "source": []
  }
 ],
 "metadata": {
  "kernelspec": {
   "display_name": "Python 3",
   "language": "python",
   "name": "python3"
  },
  "language_info": {
   "codemirror_mode": {
    "name": "ipython",
    "version": 3
   },
   "file_extension": ".py",
   "mimetype": "text/x-python",
   "name": "python",
   "nbconvert_exporter": "python",
   "pygments_lexer": "ipython3",
   "version": "3.6.2"
  }
 },
 "nbformat": 4,
 "nbformat_minor": 2
}
