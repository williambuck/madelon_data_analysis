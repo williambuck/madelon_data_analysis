{
 "cells": [
  {
   "cell_type": "markdown",
   "metadata": {},
   "source": [
    "# PROJECT 3: MADELON DATA ANALYSIS\n",
    "\n",
    "---\n"
   ]
  },
  {
   "cell_type": "code",
   "execution_count": 5,
   "metadata": {},
   "outputs": [],
   "source": [
    "# The madelon_analyzer includes all of the imports and the madelone_analyzer class that has all functions I've \n",
    "# been using for analysis.\n",
    "\n",
    "%run madelon_analyzer\n",
    "%matplotlib inline"
   ]
  },
  {
   "cell_type": "code",
   "execution_count": 6,
   "metadata": {},
   "outputs": [],
   "source": [
    "# Assigning file paths to variables. \n",
    "train_data_uci_madelon = './web_madelon_data/madelon_train.data.txt'\n",
    "train_label_uci_madelon = './web_madelon_data/madelon_train.labels.txt'\n",
    "val_data_uci_madelon = './web_madelon_data/madelon_valid.data.txt'\n",
    "val_label_uci_madelon = './web_madelon_data/madelon_valid.labels.txt'\n",
    "test_data_uci_madelon = './web_madelon_data/madelon_test.data.txt'\n",
    "params_uci_madelon = './web_madelon_data/madelon.param.txt'\n",
    "\n",
    "\n",
    "# Creating dataframes for the train, test, and val datasets.\n",
    "train_uci_df = pd.read_csv(train_data_uci_madelon, delimiter=' ', header=None).drop(500, axis=1)\n",
    "test_uci_df = pd.read_csv(test_data_uci_madelon, delimiter=' ', header=None).drop(500, axis=1)\n",
    "val_uci_df = pd.read_csv(val_data_uci_madelon, delimiter=' ', header=None).drop(500, axis=1)\n",
    "\n",
    "\n",
    "# Creating column names for all of the uci dataframes.\n",
    "feature_col_names = ['feat_{}'.format(i) for i in range(0,500)]\n",
    "train_uci_df.columns = feature_col_names\n",
    "test_uci_df.columns = feature_col_names\n",
    "val_uci_df.columns = feature_col_names\n",
    "\n",
    "\n",
    "y_train = pd.read_csv(train_label_uci_madelon, header=None)\n",
    "y_val = pd.read_csv(val_label_uci_madelon, header=None)\n",
    "\n",
    "y_train.columns = ['target']\n",
    "y_val.columns = ['target']\n",
    "\n",
    "\n",
    "# Final DataFrames with labels\n",
    "train_uci_df = pd.merge(train_uci_df, y_train, left_index=True, right_index=True)\n",
    "val_uci_df = pd.merge(val_uci_df, y_val, left_index=True, right_index=True)\n",
    "\n",
    "# 20 Columns (5 important, 15 redundant)\n",
    "top_20_real_features = [28,48,64,105,128,153,241,281,318,336,338,378,433,442,451,453,455,472,475,493]\n",
    "top_14_elasticnet_real_features = [64,105,153,241,318,336,338,378,442,453,455,472,475,493]\n",
    "top_12_real_features = [48,64,105,128,241,318,336,338,378,442,453,475]\n",
    "top_7_real_features = [64, 128, 241, 336, 338, 378, 475]\n",
    "top_5_real_features = [64, 336, 338, 378, 475]\n",
    "\n",
    "best_score_list = [28, 48, 105, 128, 153, 281, 318, 336, 338, 378, 442, 451, 455, 472, 475]\n",
    "\n",
    "all_feat_lists = [top_20_real_features, top_12_real_features, top_7_real_features, top_5_real_features]"
   ]
  },
  {
   "cell_type": "code",
   "execution_count": 7,
   "metadata": {},
   "outputs": [],
   "source": [
    "def test_features_for_normal(df, features):\n",
    "    \n",
    "    normals = {}\n",
    "\n",
    "    X = df[features]\n",
    "    \n",
    "    X_sc = ss.fit_transform(X)\n",
    "    \n",
    "    for f in features:\n",
    "\n",
    "        p = normaltest(X_sc[f]).pvalue\n",
    "        \n",
    "        if p >= 0.05:\n",
    "            normals[f] = normaltest(X_sc[f]).pvalue\n",
    "    \n",
    "    return normals.keys()"
   ]
  },
  {
   "cell_type": "markdown",
   "metadata": {},
   "source": [
    "---\n",
    "\n",
    "## Initial thoughts:\n",
    "\n",
    "#### UCI Web Data\n",
    "\n",
    "Using the unsupervised learning technique where a regressor is used to compare every feature (column) against the rest of the dataset and find correlated features, I was able to find exactly 20 features that have mean R^2 scores that are positive, and most of them are very high (in the 0.8-0.9 range) for all three of the random data subsets. Since 480/500 of the features in the madelon dataset are noise, and all three of my samples returned identical lists of features, I believe that this is a good indication that I have found my 5 predictor features and the 15 linear combinations.\n",
    "\n",
    "---"
   ]
  },
  {
   "cell_type": "code",
   "execution_count": 8,
   "metadata": {},
   "outputs": [],
   "source": [
    "# small sample lists for testing\n",
    "s1_train_uci_10 = train_uci_df.sample(int(len(train_uci_df)*0.1), random_state=1)\n",
    "s2_train_uci_10 = train_uci_df.sample(int(len(train_uci_df)*0.1), random_state=10)\n",
    "s3_train_uci_10 = train_uci_df.sample(int(len(train_uci_df)*0.1), random_state=100)"
   ]
  },
  {
   "cell_type": "code",
   "execution_count": 9,
   "metadata": {},
   "outputs": [],
   "source": [
    "MA_regression = madelon_analyzer(train_uci_df, val_uci_df)"
   ]
  },
  {
   "cell_type": "code",
   "execution_count": 10,
   "metadata": {},
   "outputs": [
    {
     "name": "stdout",
     "output_type": "stream",
     "text": [
      "CPU times: user 2min 49s, sys: 0 ns, total: 2min 49s\n",
      "Wall time: 2min 50s\n"
     ]
    },
    {
     "data": {
      "text/html": [
       "<div>\n",
       "<table border=\"1\" class=\"dataframe\">\n",
       "  <thead>\n",
       "    <tr style=\"text-align: right;\">\n",
       "      <th></th>\n",
       "      <th>r2_score</th>\n",
       "      <th>feature</th>\n",
       "    </tr>\n",
       "  </thead>\n",
       "  <tbody>\n",
       "    <tr>\n",
       "      <th>153</th>\n",
       "      <td>0.952375</td>\n",
       "      <td>feat_153</td>\n",
       "    </tr>\n",
       "    <tr>\n",
       "      <th>475</th>\n",
       "      <td>0.946658</td>\n",
       "      <td>feat_475</td>\n",
       "    </tr>\n",
       "    <tr>\n",
       "      <th>433</th>\n",
       "      <td>0.945603</td>\n",
       "      <td>feat_433</td>\n",
       "    </tr>\n",
       "    <tr>\n",
       "      <th>318</th>\n",
       "      <td>0.944197</td>\n",
       "      <td>feat_318</td>\n",
       "    </tr>\n",
       "    <tr>\n",
       "      <th>451</th>\n",
       "      <td>0.942589</td>\n",
       "      <td>feat_451</td>\n",
       "    </tr>\n",
       "    <tr>\n",
       "      <th>241</th>\n",
       "      <td>0.937304</td>\n",
       "      <td>feat_241</td>\n",
       "    </tr>\n",
       "    <tr>\n",
       "      <th>442</th>\n",
       "      <td>0.936693</td>\n",
       "      <td>feat_442</td>\n",
       "    </tr>\n",
       "    <tr>\n",
       "      <th>472</th>\n",
       "      <td>0.936217</td>\n",
       "      <td>feat_472</td>\n",
       "    </tr>\n",
       "    <tr>\n",
       "      <th>28</th>\n",
       "      <td>0.934622</td>\n",
       "      <td>feat_28</td>\n",
       "    </tr>\n",
       "    <tr>\n",
       "      <th>48</th>\n",
       "      <td>0.932126</td>\n",
       "      <td>feat_48</td>\n",
       "    </tr>\n",
       "    <tr>\n",
       "      <th>378</th>\n",
       "      <td>0.930813</td>\n",
       "      <td>feat_378</td>\n",
       "    </tr>\n",
       "    <tr>\n",
       "      <th>281</th>\n",
       "      <td>0.928361</td>\n",
       "      <td>feat_281</td>\n",
       "    </tr>\n",
       "    <tr>\n",
       "      <th>493</th>\n",
       "      <td>0.926356</td>\n",
       "      <td>feat_493</td>\n",
       "    </tr>\n",
       "    <tr>\n",
       "      <th>336</th>\n",
       "      <td>0.923632</td>\n",
       "      <td>feat_336</td>\n",
       "    </tr>\n",
       "    <tr>\n",
       "      <th>64</th>\n",
       "      <td>0.922262</td>\n",
       "      <td>feat_64</td>\n",
       "    </tr>\n",
       "    <tr>\n",
       "      <th>105</th>\n",
       "      <td>0.908043</td>\n",
       "      <td>feat_105</td>\n",
       "    </tr>\n",
       "    <tr>\n",
       "      <th>453</th>\n",
       "      <td>0.900819</td>\n",
       "      <td>feat_453</td>\n",
       "    </tr>\n",
       "    <tr>\n",
       "      <th>128</th>\n",
       "      <td>0.897277</td>\n",
       "      <td>feat_128</td>\n",
       "    </tr>\n",
       "    <tr>\n",
       "      <th>338</th>\n",
       "      <td>0.430574</td>\n",
       "      <td>feat_338</td>\n",
       "    </tr>\n",
       "    <tr>\n",
       "      <th>455</th>\n",
       "      <td>0.251742</td>\n",
       "      <td>feat_455</td>\n",
       "    </tr>\n",
       "    <tr>\n",
       "      <th>92</th>\n",
       "      <td>-0.718195</td>\n",
       "      <td>feat_92</td>\n",
       "    </tr>\n",
       "    <tr>\n",
       "      <th>97</th>\n",
       "      <td>-0.728766</td>\n",
       "      <td>feat_97</td>\n",
       "    </tr>\n",
       "    <tr>\n",
       "      <th>438</th>\n",
       "      <td>-0.749648</td>\n",
       "      <td>feat_438</td>\n",
       "    </tr>\n",
       "    <tr>\n",
       "      <th>446</th>\n",
       "      <td>-0.752564</td>\n",
       "      <td>feat_446</td>\n",
       "    </tr>\n",
       "    <tr>\n",
       "      <th>448</th>\n",
       "      <td>-0.767377</td>\n",
       "      <td>feat_448</td>\n",
       "    </tr>\n",
       "  </tbody>\n",
       "</table>\n",
       "</div>"
      ],
      "text/plain": [
       "     r2_score   feature\n",
       "153  0.952375  feat_153\n",
       "475  0.946658  feat_475\n",
       "433  0.945603  feat_433\n",
       "318  0.944197  feat_318\n",
       "451  0.942589  feat_451\n",
       "241  0.937304  feat_241\n",
       "442  0.936693  feat_442\n",
       "472  0.936217  feat_472\n",
       "28   0.934622   feat_28\n",
       "48   0.932126   feat_48\n",
       "378  0.930813  feat_378\n",
       "281  0.928361  feat_281\n",
       "493  0.926356  feat_493\n",
       "336  0.923632  feat_336\n",
       "64   0.922262   feat_64\n",
       "105  0.908043  feat_105\n",
       "453  0.900819  feat_453\n",
       "128  0.897277  feat_128\n",
       "338  0.430574  feat_338\n",
       "455  0.251742  feat_455\n",
       "92  -0.718195   feat_92\n",
       "97  -0.728766   feat_97\n",
       "438 -0.749648  feat_438\n",
       "446 -0.752564  feat_446\n",
       "448 -0.767377  feat_448"
      ]
     },
     "execution_count": 10,
     "metadata": {},
     "output_type": "execute_result"
    }
   ],
   "source": [
    "%time s1_dtree_score_df = MA_regression.mean_r2_for_all_features(s1_train_uci_10, DecisionTreeRegressor)\n",
    "s1_dtree_score_df[:25]"
   ]
  },
  {
   "cell_type": "code",
   "execution_count": 8,
   "metadata": {},
   "outputs": [
    {
     "data": {
      "text/html": [
       "<div>\n",
       "<table border=\"1\" class=\"dataframe\">\n",
       "  <thead>\n",
       "    <tr style=\"text-align: right;\">\n",
       "      <th></th>\n",
       "      <th>r2_score</th>\n",
       "      <th>feature</th>\n",
       "    </tr>\n",
       "  </thead>\n",
       "  <tbody>\n",
       "    <tr>\n",
       "      <th>128</th>\n",
       "      <td>0.945829</td>\n",
       "      <td>feat_128</td>\n",
       "    </tr>\n",
       "    <tr>\n",
       "      <th>28</th>\n",
       "      <td>0.939542</td>\n",
       "      <td>feat_28</td>\n",
       "    </tr>\n",
       "    <tr>\n",
       "      <th>451</th>\n",
       "      <td>0.939155</td>\n",
       "      <td>feat_451</td>\n",
       "    </tr>\n",
       "    <tr>\n",
       "      <th>153</th>\n",
       "      <td>0.936929</td>\n",
       "      <td>feat_153</td>\n",
       "    </tr>\n",
       "    <tr>\n",
       "      <th>336</th>\n",
       "      <td>0.935527</td>\n",
       "      <td>feat_336</td>\n",
       "    </tr>\n",
       "    <tr>\n",
       "      <th>48</th>\n",
       "      <td>0.934564</td>\n",
       "      <td>feat_48</td>\n",
       "    </tr>\n",
       "    <tr>\n",
       "      <th>318</th>\n",
       "      <td>0.933189</td>\n",
       "      <td>feat_318</td>\n",
       "    </tr>\n",
       "    <tr>\n",
       "      <th>475</th>\n",
       "      <td>0.931282</td>\n",
       "      <td>feat_475</td>\n",
       "    </tr>\n",
       "    <tr>\n",
       "      <th>281</th>\n",
       "      <td>0.930208</td>\n",
       "      <td>feat_281</td>\n",
       "    </tr>\n",
       "    <tr>\n",
       "      <th>241</th>\n",
       "      <td>0.929596</td>\n",
       "      <td>feat_241</td>\n",
       "    </tr>\n",
       "    <tr>\n",
       "      <th>453</th>\n",
       "      <td>0.924371</td>\n",
       "      <td>feat_453</td>\n",
       "    </tr>\n",
       "    <tr>\n",
       "      <th>433</th>\n",
       "      <td>0.923849</td>\n",
       "      <td>feat_433</td>\n",
       "    </tr>\n",
       "    <tr>\n",
       "      <th>378</th>\n",
       "      <td>0.919126</td>\n",
       "      <td>feat_378</td>\n",
       "    </tr>\n",
       "    <tr>\n",
       "      <th>105</th>\n",
       "      <td>0.912371</td>\n",
       "      <td>feat_105</td>\n",
       "    </tr>\n",
       "    <tr>\n",
       "      <th>493</th>\n",
       "      <td>0.906034</td>\n",
       "      <td>feat_493</td>\n",
       "    </tr>\n",
       "    <tr>\n",
       "      <th>64</th>\n",
       "      <td>0.89106</td>\n",
       "      <td>feat_64</td>\n",
       "    </tr>\n",
       "    <tr>\n",
       "      <th>442</th>\n",
       "      <td>0.885641</td>\n",
       "      <td>feat_442</td>\n",
       "    </tr>\n",
       "    <tr>\n",
       "      <th>472</th>\n",
       "      <td>0.837891</td>\n",
       "      <td>feat_472</td>\n",
       "    </tr>\n",
       "    <tr>\n",
       "      <th>338</th>\n",
       "      <td>0.548995</td>\n",
       "      <td>feat_338</td>\n",
       "    </tr>\n",
       "    <tr>\n",
       "      <th>455</th>\n",
       "      <td>0.413326</td>\n",
       "      <td>feat_455</td>\n",
       "    </tr>\n",
       "    <tr>\n",
       "      <th>274</th>\n",
       "      <td>-0.700552</td>\n",
       "      <td>feat_274</td>\n",
       "    </tr>\n",
       "    <tr>\n",
       "      <th>202</th>\n",
       "      <td>-0.711395</td>\n",
       "      <td>feat_202</td>\n",
       "    </tr>\n",
       "    <tr>\n",
       "      <th>113</th>\n",
       "      <td>-0.762234</td>\n",
       "      <td>feat_113</td>\n",
       "    </tr>\n",
       "    <tr>\n",
       "      <th>124</th>\n",
       "      <td>-0.785126</td>\n",
       "      <td>feat_124</td>\n",
       "    </tr>\n",
       "    <tr>\n",
       "      <th>60</th>\n",
       "      <td>-0.787164</td>\n",
       "      <td>feat_60</td>\n",
       "    </tr>\n",
       "  </tbody>\n",
       "</table>\n",
       "</div>"
      ],
      "text/plain": [
       "     r2_score   feature\n",
       "128  0.945829  feat_128\n",
       "28   0.939542   feat_28\n",
       "451  0.939155  feat_451\n",
       "153  0.936929  feat_153\n",
       "336  0.935527  feat_336\n",
       "48   0.934564   feat_48\n",
       "318  0.933189  feat_318\n",
       "475  0.931282  feat_475\n",
       "281  0.930208  feat_281\n",
       "241  0.929596  feat_241\n",
       "453  0.924371  feat_453\n",
       "433  0.923849  feat_433\n",
       "378  0.919126  feat_378\n",
       "105  0.912371  feat_105\n",
       "493  0.906034  feat_493\n",
       "64    0.89106   feat_64\n",
       "442  0.885641  feat_442\n",
       "472  0.837891  feat_472\n",
       "338  0.548995  feat_338\n",
       "455  0.413326  feat_455\n",
       "274 -0.700552  feat_274\n",
       "202 -0.711395  feat_202\n",
       "113 -0.762234  feat_113\n",
       "124 -0.785126  feat_124\n",
       "60  -0.787164   feat_60"
      ]
     },
     "execution_count": 8,
     "metadata": {},
     "output_type": "execute_result"
    }
   ],
   "source": [
    "s2_dtree_score_df = MA_regression.mean_r2_for_all_features(s2_train_uci_10, DecisionTreeRegressor)\n",
    "s2_dtree_score_df[:25]"
   ]
  },
  {
   "cell_type": "code",
   "execution_count": 9,
   "metadata": {},
   "outputs": [
    {
     "data": {
      "text/html": [
       "<div>\n",
       "<table border=\"1\" class=\"dataframe\">\n",
       "  <thead>\n",
       "    <tr style=\"text-align: right;\">\n",
       "      <th></th>\n",
       "      <th>r2_score</th>\n",
       "      <th>feature</th>\n",
       "    </tr>\n",
       "  </thead>\n",
       "  <tbody>\n",
       "    <tr>\n",
       "      <th>241</th>\n",
       "      <td>0.939436</td>\n",
       "      <td>feat_241</td>\n",
       "    </tr>\n",
       "    <tr>\n",
       "      <th>128</th>\n",
       "      <td>0.936951</td>\n",
       "      <td>feat_128</td>\n",
       "    </tr>\n",
       "    <tr>\n",
       "      <th>318</th>\n",
       "      <td>0.934951</td>\n",
       "      <td>feat_318</td>\n",
       "    </tr>\n",
       "    <tr>\n",
       "      <th>28</th>\n",
       "      <td>0.933727</td>\n",
       "      <td>feat_28</td>\n",
       "    </tr>\n",
       "    <tr>\n",
       "      <th>48</th>\n",
       "      <td>0.933657</td>\n",
       "      <td>feat_48</td>\n",
       "    </tr>\n",
       "    <tr>\n",
       "      <th>453</th>\n",
       "      <td>0.932541</td>\n",
       "      <td>feat_453</td>\n",
       "    </tr>\n",
       "    <tr>\n",
       "      <th>336</th>\n",
       "      <td>0.932287</td>\n",
       "      <td>feat_336</td>\n",
       "    </tr>\n",
       "    <tr>\n",
       "      <th>105</th>\n",
       "      <td>0.928431</td>\n",
       "      <td>feat_105</td>\n",
       "    </tr>\n",
       "    <tr>\n",
       "      <th>64</th>\n",
       "      <td>0.928167</td>\n",
       "      <td>feat_64</td>\n",
       "    </tr>\n",
       "    <tr>\n",
       "      <th>451</th>\n",
       "      <td>0.925625</td>\n",
       "      <td>feat_451</td>\n",
       "    </tr>\n",
       "    <tr>\n",
       "      <th>493</th>\n",
       "      <td>0.925073</td>\n",
       "      <td>feat_493</td>\n",
       "    </tr>\n",
       "    <tr>\n",
       "      <th>472</th>\n",
       "      <td>0.921902</td>\n",
       "      <td>feat_472</td>\n",
       "    </tr>\n",
       "    <tr>\n",
       "      <th>433</th>\n",
       "      <td>0.921273</td>\n",
       "      <td>feat_433</td>\n",
       "    </tr>\n",
       "    <tr>\n",
       "      <th>475</th>\n",
       "      <td>0.920651</td>\n",
       "      <td>feat_475</td>\n",
       "    </tr>\n",
       "    <tr>\n",
       "      <th>378</th>\n",
       "      <td>0.919071</td>\n",
       "      <td>feat_378</td>\n",
       "    </tr>\n",
       "    <tr>\n",
       "      <th>153</th>\n",
       "      <td>0.904713</td>\n",
       "      <td>feat_153</td>\n",
       "    </tr>\n",
       "    <tr>\n",
       "      <th>281</th>\n",
       "      <td>0.897287</td>\n",
       "      <td>feat_281</td>\n",
       "    </tr>\n",
       "    <tr>\n",
       "      <th>442</th>\n",
       "      <td>0.86722</td>\n",
       "      <td>feat_442</td>\n",
       "    </tr>\n",
       "    <tr>\n",
       "      <th>338</th>\n",
       "      <td>0.510753</td>\n",
       "      <td>feat_338</td>\n",
       "    </tr>\n",
       "    <tr>\n",
       "      <th>455</th>\n",
       "      <td>0.459507</td>\n",
       "      <td>feat_455</td>\n",
       "    </tr>\n",
       "    <tr>\n",
       "      <th>139</th>\n",
       "      <td>-0.656604</td>\n",
       "      <td>feat_139</td>\n",
       "    </tr>\n",
       "    <tr>\n",
       "      <th>488</th>\n",
       "      <td>-0.69074</td>\n",
       "      <td>feat_488</td>\n",
       "    </tr>\n",
       "    <tr>\n",
       "      <th>123</th>\n",
       "      <td>-0.739617</td>\n",
       "      <td>feat_123</td>\n",
       "    </tr>\n",
       "    <tr>\n",
       "      <th>477</th>\n",
       "      <td>-0.752115</td>\n",
       "      <td>feat_477</td>\n",
       "    </tr>\n",
       "    <tr>\n",
       "      <th>456</th>\n",
       "      <td>-0.765181</td>\n",
       "      <td>feat_456</td>\n",
       "    </tr>\n",
       "  </tbody>\n",
       "</table>\n",
       "</div>"
      ],
      "text/plain": [
       "     r2_score   feature\n",
       "241  0.939436  feat_241\n",
       "128  0.936951  feat_128\n",
       "318  0.934951  feat_318\n",
       "28   0.933727   feat_28\n",
       "48   0.933657   feat_48\n",
       "453  0.932541  feat_453\n",
       "336  0.932287  feat_336\n",
       "105  0.928431  feat_105\n",
       "64   0.928167   feat_64\n",
       "451  0.925625  feat_451\n",
       "493  0.925073  feat_493\n",
       "472  0.921902  feat_472\n",
       "433  0.921273  feat_433\n",
       "475  0.920651  feat_475\n",
       "378  0.919071  feat_378\n",
       "153  0.904713  feat_153\n",
       "281  0.897287  feat_281\n",
       "442   0.86722  feat_442\n",
       "338  0.510753  feat_338\n",
       "455  0.459507  feat_455\n",
       "139 -0.656604  feat_139\n",
       "488  -0.69074  feat_488\n",
       "123 -0.739617  feat_123\n",
       "477 -0.752115  feat_477\n",
       "456 -0.765181  feat_456"
      ]
     },
     "execution_count": 9,
     "metadata": {},
     "output_type": "execute_result"
    }
   ],
   "source": [
    "s3_dtree_score_df = MA_regression.mean_r2_for_all_features(s3_train_uci_10, DecisionTreeRegressor)\n",
    "s3_dtree_score_df[:25]"
   ]
  },
  {
   "cell_type": "code",
   "execution_count": 10,
   "metadata": {},
   "outputs": [
    {
     "data": {
      "text/plain": [
       "20"
      ]
     },
     "execution_count": 10,
     "metadata": {},
     "output_type": "execute_result"
    }
   ],
   "source": [
    "# Added all of my top 20 columns for the 3 random 10% samples to see if there was variation, and they all got the \n",
    "    # exact same features. This is a good sign!\n",
    "\n",
    "s1_correlated_cols = list(s1_dtree_score_df.head(20).index)  \n",
    "s2_correlated_cols = list(s2_dtree_score_df.head(20).index)    \n",
    "s3_correlated_cols = list(s3_dtree_score_df.head(20).index)    \n",
    "\n",
    "len(set(s1_correlated_cols+s2_correlated_cols+s3_correlated_cols))"
   ]
  },
  {
   "cell_type": "code",
   "execution_count": 11,
   "metadata": {},
   "outputs": [
    {
     "data": {
      "text/html": [
       "<div>\n",
       "<table border=\"1\" class=\"dataframe\">\n",
       "  <thead>\n",
       "    <tr style=\"text-align: right;\">\n",
       "      <th></th>\n",
       "      <th>sample_1</th>\n",
       "      <th>sample_2</th>\n",
       "      <th>sample_3</th>\n",
       "    </tr>\n",
       "  </thead>\n",
       "  <tbody>\n",
       "    <tr>\n",
       "      <th>0</th>\n",
       "      <td>28</td>\n",
       "      <td>28</td>\n",
       "      <td>28</td>\n",
       "    </tr>\n",
       "    <tr>\n",
       "      <th>1</th>\n",
       "      <td>48</td>\n",
       "      <td>48</td>\n",
       "      <td>48</td>\n",
       "    </tr>\n",
       "    <tr>\n",
       "      <th>2</th>\n",
       "      <td>64</td>\n",
       "      <td>64</td>\n",
       "      <td>64</td>\n",
       "    </tr>\n",
       "    <tr>\n",
       "      <th>3</th>\n",
       "      <td>105</td>\n",
       "      <td>105</td>\n",
       "      <td>105</td>\n",
       "    </tr>\n",
       "    <tr>\n",
       "      <th>4</th>\n",
       "      <td>128</td>\n",
       "      <td>128</td>\n",
       "      <td>128</td>\n",
       "    </tr>\n",
       "    <tr>\n",
       "      <th>5</th>\n",
       "      <td>153</td>\n",
       "      <td>153</td>\n",
       "      <td>153</td>\n",
       "    </tr>\n",
       "    <tr>\n",
       "      <th>6</th>\n",
       "      <td>241</td>\n",
       "      <td>241</td>\n",
       "      <td>241</td>\n",
       "    </tr>\n",
       "    <tr>\n",
       "      <th>7</th>\n",
       "      <td>281</td>\n",
       "      <td>281</td>\n",
       "      <td>281</td>\n",
       "    </tr>\n",
       "    <tr>\n",
       "      <th>8</th>\n",
       "      <td>318</td>\n",
       "      <td>318</td>\n",
       "      <td>318</td>\n",
       "    </tr>\n",
       "    <tr>\n",
       "      <th>9</th>\n",
       "      <td>336</td>\n",
       "      <td>336</td>\n",
       "      <td>336</td>\n",
       "    </tr>\n",
       "    <tr>\n",
       "      <th>10</th>\n",
       "      <td>338</td>\n",
       "      <td>338</td>\n",
       "      <td>338</td>\n",
       "    </tr>\n",
       "    <tr>\n",
       "      <th>11</th>\n",
       "      <td>378</td>\n",
       "      <td>378</td>\n",
       "      <td>378</td>\n",
       "    </tr>\n",
       "    <tr>\n",
       "      <th>12</th>\n",
       "      <td>433</td>\n",
       "      <td>433</td>\n",
       "      <td>433</td>\n",
       "    </tr>\n",
       "    <tr>\n",
       "      <th>13</th>\n",
       "      <td>442</td>\n",
       "      <td>442</td>\n",
       "      <td>442</td>\n",
       "    </tr>\n",
       "    <tr>\n",
       "      <th>14</th>\n",
       "      <td>451</td>\n",
       "      <td>451</td>\n",
       "      <td>451</td>\n",
       "    </tr>\n",
       "    <tr>\n",
       "      <th>15</th>\n",
       "      <td>453</td>\n",
       "      <td>453</td>\n",
       "      <td>453</td>\n",
       "    </tr>\n",
       "    <tr>\n",
       "      <th>16</th>\n",
       "      <td>455</td>\n",
       "      <td>455</td>\n",
       "      <td>455</td>\n",
       "    </tr>\n",
       "    <tr>\n",
       "      <th>17</th>\n",
       "      <td>472</td>\n",
       "      <td>472</td>\n",
       "      <td>472</td>\n",
       "    </tr>\n",
       "    <tr>\n",
       "      <th>18</th>\n",
       "      <td>475</td>\n",
       "      <td>475</td>\n",
       "      <td>475</td>\n",
       "    </tr>\n",
       "    <tr>\n",
       "      <th>19</th>\n",
       "      <td>493</td>\n",
       "      <td>493</td>\n",
       "      <td>493</td>\n",
       "    </tr>\n",
       "  </tbody>\n",
       "</table>\n",
       "</div>"
      ],
      "text/plain": [
       "    sample_1  sample_2  sample_3\n",
       "0         28        28        28\n",
       "1         48        48        48\n",
       "2         64        64        64\n",
       "3        105       105       105\n",
       "4        128       128       128\n",
       "5        153       153       153\n",
       "6        241       241       241\n",
       "7        281       281       281\n",
       "8        318       318       318\n",
       "9        336       336       336\n",
       "10       338       338       338\n",
       "11       378       378       378\n",
       "12       433       433       433\n",
       "13       442       442       442\n",
       "14       451       451       451\n",
       "15       453       453       453\n",
       "16       455       455       455\n",
       "17       472       472       472\n",
       "18       475       475       475\n",
       "19       493       493       493"
      ]
     },
     "execution_count": 11,
     "metadata": {},
     "output_type": "execute_result"
    }
   ],
   "source": [
    "s_all_results_df = pd.DataFrame([sorted(s1_correlated_cols), sorted(s2_correlated_cols), sorted(s3_correlated_cols)]).T\n",
    "s_all_results_df.columns = ['sample_1', 'sample_2', 'sample_3']\n",
    "s_all_results_df"
   ]
  },
  {
   "cell_type": "markdown",
   "metadata": {},
   "source": [
    "---\n",
    "\n",
    "## Benchmark\n",
    "\n",
    "I used a naive, cross validated KNeighborsClassifer as my benchmark score using the 20 features I identified above. This resulted in a validation score of 0.91333.\n",
    "\n",
    "---"
   ]
  },
  {
   "cell_type": "code",
   "execution_count": 12,
   "metadata": {},
   "outputs": [],
   "source": [
    "MA_benchmark = madelon_analyzer(train_uci_df, val_uci_df)"
   ]
  },
  {
   "cell_type": "code",
   "execution_count": 13,
   "metadata": {
    "scrolled": true
   },
   "outputs": [
    {
     "data": {
      "text/html": [
       "<div>\n",
       "<table border=\"1\" class=\"dataframe\">\n",
       "  <thead>\n",
       "    <tr style=\"text-align: right;\">\n",
       "      <th></th>\n",
       "      <th>train_score</th>\n",
       "      <th>val_score</th>\n",
       "    </tr>\n",
       "  </thead>\n",
       "  <tbody>\n",
       "    <tr>\n",
       "      <th>top_20_features</th>\n",
       "      <td>0.9365</td>\n",
       "      <td>0.913333</td>\n",
       "    </tr>\n",
       "  </tbody>\n",
       "</table>\n",
       "</div>"
      ],
      "text/plain": [
       "                 train_score  val_score\n",
       "top_20_features       0.9365   0.913333"
      ]
     },
     "execution_count": 13,
     "metadata": {},
     "output_type": "execute_result"
    }
   ],
   "source": [
    "top_20_score_benchmark = MA_benchmark.train_val_scorer_df_maker(top_20_real_features, 'top_20_features').T\n",
    "top_20_score_benchmark"
   ]
  },
  {
   "cell_type": "markdown",
   "metadata": {},
   "source": [
    "---\n",
    "\n",
    "## Features Selection\n",
    "\n",
    "Using SelectKBest with k=5 on my 3 random data subsets, I was able to identify 8 unique features. Using SelectFromModel with the Lasso estimator, I was able to identify 9. Between these two lists of features, only 5 are the same. SelectFromModel returned 5 for the first dataset, 3 for the second, and 4 for the third. Moving forward, I will use GridSearchCV to tune my model hyperparameters and try various combinations of the important features I identified.\n",
    "\n",
    "***EDIT***: I when and tested these selected features and none scored better than benchmark. I will need to re-evaluate my selection.\n",
    "\n",
    "---"
   ]
  },
  {
   "cell_type": "code",
   "execution_count": 14,
   "metadata": {},
   "outputs": [
    {
     "name": "stdout",
     "output_type": "stream",
     "text": [
      "[64, 105, 153, 241, 318, 336, 338, 378, 442, 453, 455, 472, 475, 493] \n",
      " [48, 64, 105, 128, 241, 318, 336, 338, 378, 442, 453, 475] \n",
      " [64, 128, 241, 336, 338, 378, 475] \n",
      " [64, 336, 338, 378, 475]\n"
     ]
    }
   ],
   "source": [
    "# All of this information is in the 0_EDA notebook. Since it was bad information, I left it out to revisit later.\n",
    "# You can find lists of the features that were identified below.\n",
    "\n",
    "print(top_14_elasticnet_real_features, '\\n',\n",
    "top_12_real_features, '\\n',\n",
    "top_7_real_features, '\\n',\n",
    "top_5_real_features,)"
   ]
  },
  {
   "cell_type": "code",
   "execution_count": 15,
   "metadata": {},
   "outputs": [
    {
     "data": {
      "text/plain": [
       "['feat_48', 'feat_153', 'feat_378', 'feat_475']"
      ]
     },
     "execution_count": 15,
     "metadata": {},
     "output_type": "execute_result"
    }
   ],
   "source": [
    "sfm = SelectFromModel(ElasticNet())\n",
    "sfm.fit(train_uci_df[top_20_real_features], train_uci_df.iloc[:,-1])\n",
    "sfm_feats = np.where(sfm.get_support())[0]\n",
    "sfm_cols = list(train_uci_df[top_20_real_features][sfm_feats].head().columns)\n",
    "sfm_cols"
   ]
  },
  {
   "cell_type": "code",
   "execution_count": 16,
   "metadata": {
    "scrolled": false
   },
   "outputs": [
    {
     "data": {
      "text/html": [
       "<div>\n",
       "<table border=\"1\" class=\"dataframe\">\n",
       "  <thead>\n",
       "    <tr style=\"text-align: right;\">\n",
       "      <th></th>\n",
       "      <th>train_score</th>\n",
       "      <th>val_score</th>\n",
       "    </tr>\n",
       "  </thead>\n",
       "  <tbody>\n",
       "    <tr>\n",
       "      <th>20 k</th>\n",
       "      <td>0.9365</td>\n",
       "      <td>0.913333</td>\n",
       "    </tr>\n",
       "    <tr>\n",
       "      <th>19 k</th>\n",
       "      <td>0.9365</td>\n",
       "      <td>0.906667</td>\n",
       "    </tr>\n",
       "    <tr>\n",
       "      <th>17 k</th>\n",
       "      <td>0.9360</td>\n",
       "      <td>0.903333</td>\n",
       "    </tr>\n",
       "    <tr>\n",
       "      <th>18 k</th>\n",
       "      <td>0.9345</td>\n",
       "      <td>0.898333</td>\n",
       "    </tr>\n",
       "    <tr>\n",
       "      <th>11 k</th>\n",
       "      <td>0.9195</td>\n",
       "      <td>0.893333</td>\n",
       "    </tr>\n",
       "    <tr>\n",
       "      <th>13 k</th>\n",
       "      <td>0.9270</td>\n",
       "      <td>0.891667</td>\n",
       "    </tr>\n",
       "    <tr>\n",
       "      <th>16 k</th>\n",
       "      <td>0.9290</td>\n",
       "      <td>0.890000</td>\n",
       "    </tr>\n",
       "    <tr>\n",
       "      <th>14 k</th>\n",
       "      <td>0.9285</td>\n",
       "      <td>0.890000</td>\n",
       "    </tr>\n",
       "    <tr>\n",
       "      <th>12 k</th>\n",
       "      <td>0.9260</td>\n",
       "      <td>0.890000</td>\n",
       "    </tr>\n",
       "    <tr>\n",
       "      <th>15 k</th>\n",
       "      <td>0.9275</td>\n",
       "      <td>0.888333</td>\n",
       "    </tr>\n",
       "    <tr>\n",
       "      <th>10 k</th>\n",
       "      <td>0.9170</td>\n",
       "      <td>0.878333</td>\n",
       "    </tr>\n",
       "    <tr>\n",
       "      <th>9 k</th>\n",
       "      <td>0.8890</td>\n",
       "      <td>0.840000</td>\n",
       "    </tr>\n",
       "    <tr>\n",
       "      <th>8 k</th>\n",
       "      <td>0.8860</td>\n",
       "      <td>0.835000</td>\n",
       "    </tr>\n",
       "    <tr>\n",
       "      <th>7 k</th>\n",
       "      <td>0.8520</td>\n",
       "      <td>0.801667</td>\n",
       "    </tr>\n",
       "    <tr>\n",
       "      <th>5 k</th>\n",
       "      <td>0.8165</td>\n",
       "      <td>0.716667</td>\n",
       "    </tr>\n",
       "    <tr>\n",
       "      <th>6 k</th>\n",
       "      <td>0.8135</td>\n",
       "      <td>0.713333</td>\n",
       "    </tr>\n",
       "    <tr>\n",
       "      <th>3 k</th>\n",
       "      <td>0.7190</td>\n",
       "      <td>0.571667</td>\n",
       "    </tr>\n",
       "    <tr>\n",
       "      <th>4 k</th>\n",
       "      <td>0.7240</td>\n",
       "      <td>0.565000</td>\n",
       "    </tr>\n",
       "    <tr>\n",
       "      <th>1 k_x</th>\n",
       "      <td>0.6570</td>\n",
       "      <td>0.550000</td>\n",
       "    </tr>\n",
       "    <tr>\n",
       "      <th>1 k_y</th>\n",
       "      <td>0.6570</td>\n",
       "      <td>0.550000</td>\n",
       "    </tr>\n",
       "    <tr>\n",
       "      <th>2 k</th>\n",
       "      <td>0.7215</td>\n",
       "      <td>0.536667</td>\n",
       "    </tr>\n",
       "  </tbody>\n",
       "</table>\n",
       "</div>"
      ],
      "text/plain": [
       "       train_score  val_score\n",
       "20 k        0.9365   0.913333\n",
       "19 k        0.9365   0.906667\n",
       "17 k        0.9360   0.903333\n",
       "18 k        0.9345   0.898333\n",
       "11 k        0.9195   0.893333\n",
       "13 k        0.9270   0.891667\n",
       "16 k        0.9290   0.890000\n",
       "14 k        0.9285   0.890000\n",
       "12 k        0.9260   0.890000\n",
       "15 k        0.9275   0.888333\n",
       "10 k        0.9170   0.878333\n",
       "9 k         0.8890   0.840000\n",
       "8 k         0.8860   0.835000\n",
       "7 k         0.8520   0.801667\n",
       "5 k         0.8165   0.716667\n",
       "6 k         0.8135   0.713333\n",
       "3 k         0.7190   0.571667\n",
       "4 k         0.7240   0.565000\n",
       "1 k_x       0.6570   0.550000\n",
       "1 k_y       0.6570   0.550000\n",
       "2 k         0.7215   0.536667"
      ]
     },
     "execution_count": 16,
     "metadata": {},
     "output_type": "execute_result"
    }
   ],
   "source": [
    "ks = range(1,21)\n",
    "\n",
    "new_df = pd.DataFrame()\n",
    "\n",
    "for k in ks:\n",
    "    MA = madelon_analyzer(train_uci_df, val_uci_df)\n",
    "\n",
    "    a_dict = {}\n",
    "    \n",
    "    skb = SelectKBest(k=k)\n",
    "    skb.fit(train_uci_df[top_20_real_features], train_uci_df.iloc[:,-1])\n",
    "    skb_feats = np.where(skb.get_support())[0]\n",
    "    skb_cols = list(train_uci_df[top_20_real_features][skb_feats].head().columns)\n",
    "    \n",
    "    tra_val_df = MA.train_val_scorer_df_maker(skb_cols, '{} k'.format(k))\n",
    "    \n",
    "    if k == 1:\n",
    "        new_df = tra_val_df\n",
    "    \n",
    "    new_df = pd.merge(tra_val_df, new_df, left_index=True, right_index=True)\n",
    "    \n",
    "new_df.T.sort_values('val_score', ascending=False)\n"
   ]
  },
  {
   "cell_type": "raw",
   "metadata": {},
   "source": [
    "# Getting the target values associated with each sample set.\n",
    "\n",
    "s1_train_uci_10_with_y = train_uci_df.sample(int(len(train_uci_df)*0.1), random_state=1)\n",
    "s2_train_uci_10_with_y = train_uci_df.sample(int(len(train_uci_df)*0.1), random_state=10)\n",
    "s3_train_uci_10_with_y = train_uci_df.sample(int(len(train_uci_df)*0.1), random_state=100)\n",
    "\n",
    "y_s1 = s1_train_uci_10_with_y[s1_correlated_cols+[-1]]['target']\n",
    "y_s2 = s2_train_uci_10_with_y[s2_correlated_cols+[-1]]['target']\n",
    "y_s3 = s3_train_uci_10_with_y[s3_correlated_cols+[-1]]['target']\n",
    "\n",
    "# results f-classif: ['feat_241', 'feat_475', 'feat_64', 'feat_128', 'feat_336']\n",
    "skb_s1 = SelectKBest(k=5)\n",
    "skb_s1.fit(s1_train_uci_10[s1_correlated_cols], y_s1)\n",
    "s1_skb_feats = np.where(skb_s1.get_support())[0]\n",
    "s1_skb_cols = list(s1_train_uci_10[s1_correlated_cols][s1_skb_feats].head().columns)\n",
    "\n",
    "s1_skb_cols\n",
    "\n",
    "# results f-classif: ['feat_48', 'feat_475', 'feat_378', 'feat_241', 'feat_128']\n",
    "\n",
    "skb_s2 = SelectKBest(k=5)\n",
    "skb_s2.fit(s2_train_uci_10[s2_correlated_cols], y_s2)\n",
    "s2_skb_feats = np.where(skb_s2.get_support())[0]\n",
    "s2_skb_cols = list(s2_train_uci_10[s2_correlated_cols][s2_skb_feats].head().columns)\n",
    "\n",
    "s2_skb_cols\n",
    "\n",
    "# results f-classif: ['feat_241', 'feat_128', 'feat_378', 'feat_475', 'feat_338']\n",
    "\n",
    "skb_s3 = SelectKBest(k=5)\n",
    "skb_s3.fit(s3_train_uci_10[s3_correlated_cols], y_s3)\n",
    "s3_skb_feats = np.where(skb_s3.get_support())[0]\n",
    "s3_skb_cols = list(s3_train_uci_10[s3_correlated_cols][s3_skb_feats].head().columns)\n",
    "\n",
    "s3_skb_cols\n",
    "\n",
    "# Features that show in all three of the SelectKBest fits: 128, 241, 475\n",
    "# Features that show twice: 378\n",
    "# Features that show once: 64, 48, 338, 336\n",
    "\n",
    "skb_all_samp_feats = set(s1_skb_cols + s2_skb_cols + s3_skb_cols)\n",
    "skb_all_samp_feats\n",
    "\n",
    "# Found with Lasso: ['feat_442', 'feat_378', 'feat_475', 'feat_105', 'feat_336']\n",
    "# Found with ElasticNet: ['feat_153','feat_442','feat_241','feat_378','feat_453','feat_105','feat_336','feat_455']\n",
    "    \n",
    "sfm_s1 = SelectFromModel(ElasticNet(), threshold='mean')\n",
    "sfm_s1.fit(s1_train_uci_10[s1_correlated_cols], y_s1)\n",
    "s1_sfm_feats = np.where(sfm_s1.get_support())[0]\n",
    "s1_sfm_cols = list(s1_train_uci_10[s1_correlated_cols][s1_sfm_feats].head().columns)\n",
    "s1_sfm_cols\n",
    "\n",
    "# Found with Lasso: ['feat_475', 'feat_453', 'feat_64']\n",
    "# Found with ElasticNet: ['feat_475', 'feat_336', 'feat_241', 'feat_64', 'feat_472']\n",
    "\n",
    "sfm_s2 = SelectFromModel(ElasticNet(), threshold='mean')\n",
    "sfm_s2.fit(s1_train_uci_10[s2_correlated_cols], y_s2)\n",
    "s2_sfm_feats = np.where(sfm_s2.get_support())[0]\n",
    "s2_sfm_cols = list(s2_train_uci_10[s2_correlated_cols][s2_sfm_feats].head().columns)\n",
    "s2_sfm_cols\n",
    "\n",
    "# Found with Lasso: ['feat_318', 'feat_378', 'feat_475', 'feat_338']\n",
    "# Found with ElasticNet: ['feat_241','feat_318','feat_493','feat_378','feat_475','feat_455','feat_338']\n",
    "\n",
    "sfm_s3 = SelectFromModel(ElasticNet(), threshold='mean')\n",
    "sfm_s3.fit(s3_train_uci_10[s3_correlated_cols], y_s3)\n",
    "s3_sfm_feats = np.where(sfm_s3.get_support())[0]\n",
    "s3_sfm_cols = list(s3_train_uci_10[s3_correlated_cols][s3_sfm_feats].head().columns)\n",
    "s3_sfm_cols\n",
    "\n",
    "# Features that show in all three of the SelectFromModel fits: 475\n",
    "# Features that show twice: 378\n",
    "# Features that show once: 64, 105, 318, 336, 338, 442, 453\n",
    "\n",
    "sfm_all_samp_feats = sorted(list(set(s1_sfm_cols + s2_sfm_cols + s3_sfm_cols)))\n",
    "sfm_all_samp_feats\n",
    "\n",
    "# Features that appear in both SFM and SKB: 64, 336, 338, 378, 475\n",
    "# I feel like I should also consider 128 and 241 because that appeared in all three sample sets for SKB.\n",
    "\n",
    "sfm_skb_all_feats_combo = set(list(skb_all_samp_feats) + list(sfm_all_samp_feats))\n",
    "sfm_skb_all_feats_combo"
   ]
  },
  {
   "cell_type": "markdown",
   "metadata": {},
   "source": [
    "## Using the madelon_analyzer to determine feature importance\n",
    "\n",
    "So far, all of the features that were derived from my selection models have scored lower than just using all 20 of the features I identified during preprocessing. Using the madelon_analyzer I created, I've been able to score better than benchmark on a couple of occasion. "
   ]
  },
  {
   "cell_type": "code",
   "execution_count": 17,
   "metadata": {},
   "outputs": [],
   "source": [
    "from scipy.stats.mstats import normaltest"
   ]
  },
  {
   "cell_type": "code",
   "execution_count": 18,
   "metadata": {
    "scrolled": true
   },
   "outputs": [
    {
     "name": "stderr",
     "output_type": "stream",
     "text": [
      "/opt/conda/lib/python3.6/site-packages/scipy/stats/mstats_basic.py:2237: UserWarning: kurtosistest only valid for n>=20 ... continuing anyway, n=15\n",
      "  np.min(n))\n"
     ]
    },
    {
     "data": {
      "text/plain": [
       "dict_keys([28, 48, 105, 128, 153, 281, 336, 338, 378, 442, 451, 472, 475])"
      ]
     },
     "execution_count": 18,
     "metadata": {},
     "output_type": "execute_result"
    }
   ],
   "source": [
    "ss = StandardScaler()\n",
    "\n",
    "test_features_for_normal(train_uci_df, best_score_list)"
   ]
  },
  {
   "cell_type": "code",
   "execution_count": 19,
   "metadata": {},
   "outputs": [],
   "source": [
    "ma_20 = madelon_analyzer(train_uci_df, val_uci_df)"
   ]
  },
  {
   "cell_type": "code",
   "execution_count": 20,
   "metadata": {},
   "outputs": [],
   "source": [
    "knc_params = {\n",
    "        'n_neighbors':range(1,50,2)\n",
    "        }\n",
    "\n",
    "ma_20_df = ma_20.train_val_scorer_df_maker(top_20_real_features, 'top_20_class_test',\\\n",
    "                                                KNeighborsClassifier, knc_params)"
   ]
  },
  {
   "cell_type": "code",
   "execution_count": 21,
   "metadata": {},
   "outputs": [
    {
     "data": {
      "text/plain": [
       "{'top_20_class_test': {'train_score': 0.94750000000000001,\n",
       "  'val_score': 0.91333333333333333}}"
      ]
     },
     "execution_count": 21,
     "metadata": {},
     "output_type": "execute_result"
    }
   ],
   "source": [
    "ma_20.results"
   ]
  },
  {
   "cell_type": "code",
   "execution_count": 22,
   "metadata": {},
   "outputs": [
    {
     "data": {
      "image/png": "[encoded data removed]",
      "text/plain": [
       "<matplotlib.figure.Figure at 0x7ff156936ac8>"
      ]
     },
     "metadata": {},
     "output_type": "display_data"
    },
    {
     "data": {
      "text/plain": [
       "(    train_score  val_score\n",
       " 0        0.9475   0.913333\n",
       " 1        0.9455   0.911667\n",
       " 2        0.9365   0.916667\n",
       " 3        0.9355   0.916667\n",
       " 4        0.9455   0.920000\n",
       " 5        0.9235   0.905000\n",
       " 6        0.9460   0.911667\n",
       " 7        0.9065   0.896667\n",
       " 8        0.9070   0.893333\n",
       " 9        0.9415   0.900000\n",
       " 10       0.9415   0.908333\n",
       " 11       0.9140   0.890000\n",
       " 12       0.9135   0.898333\n",
       " 13       0.9065   0.901667\n",
       " 14       0.8945   0.873333\n",
       " 15       0.8605   0.795000\n",
       " 16       0.8535   0.790000\n",
       " 17       0.7365   0.696667\n",
       " 18       0.5930   0.591667\n",
       " 19       0.5220   0.493333, [475, 455, 451, 378, 338, 318, 281])"
      ]
     },
     "execution_count": 22,
     "metadata": {},
     "output_type": "execute_result"
    }
   ],
   "source": [
    "ma_20.plot_top_down_feature_elimination_scores(top_20_real_features, \\\n",
    "                                            KNeighborsClassifier, \\\n",
    "                                            knc_params, noise=True)"
   ]
  },
  {
   "cell_type": "code",
   "execution_count": 23,
   "metadata": {},
   "outputs": [
    {
     "data": {
      "text/plain": [
       "{'n_neighbors': range(1, 50, 2)}"
      ]
     },
     "execution_count": 23,
     "metadata": {},
     "output_type": "execute_result"
    }
   ],
   "source": [
    "ma_20.params"
   ]
  },
  {
   "cell_type": "code",
   "execution_count": 24,
   "metadata": {},
   "outputs": [
    {
     "data": {
      "text/html": [
       "<div>\n",
       "<table border=\"1\" class=\"dataframe\">\n",
       "  <thead>\n",
       "    <tr style=\"text-align: right;\">\n",
       "      <th></th>\n",
       "      <th>train_score</th>\n",
       "      <th>val_score</th>\n",
       "    </tr>\n",
       "  </thead>\n",
       "  <tbody>\n",
       "    <tr>\n",
       "      <th>0</th>\n",
       "      <td>0.9475</td>\n",
       "      <td>0.913333</td>\n",
       "    </tr>\n",
       "    <tr>\n",
       "      <th>1</th>\n",
       "      <td>0.9455</td>\n",
       "      <td>0.911667</td>\n",
       "    </tr>\n",
       "    <tr>\n",
       "      <th>2</th>\n",
       "      <td>0.9365</td>\n",
       "      <td>0.916667</td>\n",
       "    </tr>\n",
       "    <tr>\n",
       "      <th>3</th>\n",
       "      <td>0.9355</td>\n",
       "      <td>0.916667</td>\n",
       "    </tr>\n",
       "    <tr>\n",
       "      <th>4</th>\n",
       "      <td>0.9455</td>\n",
       "      <td>0.920000</td>\n",
       "    </tr>\n",
       "    <tr>\n",
       "      <th>5</th>\n",
       "      <td>0.9235</td>\n",
       "      <td>0.905000</td>\n",
       "    </tr>\n",
       "    <tr>\n",
       "      <th>6</th>\n",
       "      <td>0.9460</td>\n",
       "      <td>0.911667</td>\n",
       "    </tr>\n",
       "    <tr>\n",
       "      <th>7</th>\n",
       "      <td>0.9065</td>\n",
       "      <td>0.896667</td>\n",
       "    </tr>\n",
       "    <tr>\n",
       "      <th>8</th>\n",
       "      <td>0.9070</td>\n",
       "      <td>0.893333</td>\n",
       "    </tr>\n",
       "    <tr>\n",
       "      <th>9</th>\n",
       "      <td>0.9415</td>\n",
       "      <td>0.900000</td>\n",
       "    </tr>\n",
       "    <tr>\n",
       "      <th>10</th>\n",
       "      <td>0.9415</td>\n",
       "      <td>0.908333</td>\n",
       "    </tr>\n",
       "    <tr>\n",
       "      <th>11</th>\n",
       "      <td>0.9140</td>\n",
       "      <td>0.890000</td>\n",
       "    </tr>\n",
       "    <tr>\n",
       "      <th>12</th>\n",
       "      <td>0.9135</td>\n",
       "      <td>0.898333</td>\n",
       "    </tr>\n",
       "    <tr>\n",
       "      <th>13</th>\n",
       "      <td>0.9065</td>\n",
       "      <td>0.901667</td>\n",
       "    </tr>\n",
       "    <tr>\n",
       "      <th>14</th>\n",
       "      <td>0.8945</td>\n",
       "      <td>0.873333</td>\n",
       "    </tr>\n",
       "    <tr>\n",
       "      <th>15</th>\n",
       "      <td>0.8605</td>\n",
       "      <td>0.795000</td>\n",
       "    </tr>\n",
       "    <tr>\n",
       "      <th>16</th>\n",
       "      <td>0.8535</td>\n",
       "      <td>0.790000</td>\n",
       "    </tr>\n",
       "    <tr>\n",
       "      <th>17</th>\n",
       "      <td>0.7365</td>\n",
       "      <td>0.696667</td>\n",
       "    </tr>\n",
       "    <tr>\n",
       "      <th>18</th>\n",
       "      <td>0.5930</td>\n",
       "      <td>0.591667</td>\n",
       "    </tr>\n",
       "    <tr>\n",
       "      <th>19</th>\n",
       "      <td>0.5220</td>\n",
       "      <td>0.493333</td>\n",
       "    </tr>\n",
       "  </tbody>\n",
       "</table>\n",
       "</div>"
      ],
      "text/plain": [
       "    train_score  val_score\n",
       "0        0.9475   0.913333\n",
       "1        0.9455   0.911667\n",
       "2        0.9365   0.916667\n",
       "3        0.9355   0.916667\n",
       "4        0.9455   0.920000\n",
       "5        0.9235   0.905000\n",
       "6        0.9460   0.911667\n",
       "7        0.9065   0.896667\n",
       "8        0.9070   0.893333\n",
       "9        0.9415   0.900000\n",
       "10       0.9415   0.908333\n",
       "11       0.9140   0.890000\n",
       "12       0.9135   0.898333\n",
       "13       0.9065   0.901667\n",
       "14       0.8945   0.873333\n",
       "15       0.8605   0.795000\n",
       "16       0.8535   0.790000\n",
       "17       0.7365   0.696667\n",
       "18       0.5930   0.591667\n",
       "19       0.5220   0.493333"
      ]
     },
     "execution_count": 24,
     "metadata": {},
     "output_type": "execute_result"
    }
   ],
   "source": [
    "pd.DataFrame(ma_20.results).T"
   ]
  },
  {
   "cell_type": "code",
   "execution_count": 25,
   "metadata": {},
   "outputs": [],
   "source": [
    "ma_best = madelon_analyzer(train_uci_df, val_uci_df)"
   ]
  },
  {
   "cell_type": "code",
   "execution_count": 26,
   "metadata": {},
   "outputs": [
    {
     "data": {
      "text/html": [
       "<div>\n",
       "<table border=\"1\" class=\"dataframe\">\n",
       "  <thead>\n",
       "    <tr style=\"text-align: right;\">\n",
       "      <th></th>\n",
       "      <th>best_score_MA</th>\n",
       "    </tr>\n",
       "  </thead>\n",
       "  <tbody>\n",
       "    <tr>\n",
       "      <th>train_score</th>\n",
       "      <td>1.000000</td>\n",
       "    </tr>\n",
       "    <tr>\n",
       "      <th>val_score</th>\n",
       "      <td>0.896667</td>\n",
       "    </tr>\n",
       "  </tbody>\n",
       "</table>\n",
       "</div>"
      ],
      "text/plain": [
       "             best_score_MA\n",
       "train_score       1.000000\n",
       "val_score         0.896667"
      ]
     },
     "execution_count": 26,
     "metadata": {},
     "output_type": "execute_result"
    }
   ],
   "source": [
    "rf_params = {\n",
    "    'n_estimators':[10,50,100,200],\n",
    "    'max_features':['auto','log2'],\n",
    "}\n",
    "\n",
    "ma_best.train_val_scorer_df_maker(best_score_list, 'best_score_MA', \\\n",
    "                                  model=RandomForestClassifier, params=rf_params)"
   ]
  },
  {
   "cell_type": "code",
   "execution_count": 27,
   "metadata": {
    "scrolled": true
   },
   "outputs": [
    {
     "name": "stdout",
     "output_type": "stream",
     "text": [
      "<class 'sklearn.ensemble.forest.RandomForestClassifier'> \n",
      " {'n_estimators': [10, 50, 100, 200], 'max_features': ['auto', 'log2']} \n",
      " [28, 48, 105, 128, 153, 281, 318, 336, 338, 378, 442, 451, 455, 472, 475]\n"
     ]
    }
   ],
   "source": [
    "print(ma_best.model, '\\n', ma_best.params, '\\n', ma_best.features)"
   ]
  },
  {
   "cell_type": "code",
   "execution_count": 28,
   "metadata": {},
   "outputs": [
    {
     "data": {
      "text/plain": [
       "{'max_features': 'log2', 'n_estimators': 200}"
      ]
     },
     "execution_count": 28,
     "metadata": {},
     "output_type": "execute_result"
    }
   ],
   "source": [
    "ma_best.best_params_"
   ]
  },
  {
   "cell_type": "code",
   "execution_count": 29,
   "metadata": {},
   "outputs": [
    {
     "data": {
      "image/png": "[encoded data removed]",
      "text/plain": [
       "<matplotlib.figure.Figure at 0x7ff1567a4f28>"
      ]
     },
     "metadata": {},
     "output_type": "display_data"
    },
    {
     "data": {
      "text/plain": [
       "(    train_score  val_score\n",
       " 0        1.0000   0.895000\n",
       " 1        1.0000   0.896667\n",
       " 2        1.0000   0.890000\n",
       " 3        1.0000   0.885000\n",
       " 4        1.0000   0.885000\n",
       " 5        1.0000   0.873333\n",
       " 6        1.0000   0.888333\n",
       " 7        1.0000   0.885000\n",
       " 8        1.0000   0.878333\n",
       " 9        1.0000   0.873333\n",
       " 10       1.0000   0.866667\n",
       " 11       1.0000   0.765000\n",
       " 12       1.0000   0.670000\n",
       " 13       0.9925   0.566667\n",
       " 14       0.7000   0.563333,\n",
       " [281, 475, 451, 105, 442, 128, 378, 48, 336, 318, 455])"
      ]
     },
     "execution_count": 29,
     "metadata": {},
     "output_type": "execute_result"
    }
   ],
   "source": [
    "ma_best.plot_top_down_feature_elimination_scores(best_score_list, \\\n",
    "                                               model=RandomForestClassifier, \\\n",
    "                                               params=rf_params, random=True)"
   ]
  },
  {
   "cell_type": "code",
   "execution_count": 30,
   "metadata": {},
   "outputs": [
    {
     "data": {
      "image/png": "[encoded data removed]",
      "text/plain": [
       "<matplotlib.figure.Figure at 0x7ff156908978>"
      ]
     },
     "metadata": {},
     "output_type": "display_data"
    },
    {
     "data": {
      "image/png": "[encoded data removed]",
      "text/plain": [
       "<matplotlib.figure.Figure at 0x7ff156743c18>"
      ]
     },
     "metadata": {},
     "output_type": "display_data"
    },
    {
     "name": "stdout",
     "output_type": "stream",
     "text": [
      "TOP REAL FEATURES: [48, 128, 281, 318, 336, 338, 442, 455, 472]\n"
     ]
    },
    {
     "data": {
      "text/plain": [
       "[48, 128, 281, 318, 336, 338, 442, 455, 472]"
      ]
     },
     "execution_count": 30,
     "metadata": {},
     "output_type": "execute_result"
    }
   ],
   "source": [
    "ma_best.list_top_dipped_feats(best_score_list, \\\n",
    "                               model=RandomForestClassifier, \\\n",
    "                               params=rf_params)"
   ]
  },
  {
   "cell_type": "code",
   "execution_count": 31,
   "metadata": {},
   "outputs": [],
   "source": [
    "ma_yeahhh = madelon_analyzer(train_uci_df, val_uci_df)"
   ]
  },
  {
   "cell_type": "code",
   "execution_count": 32,
   "metadata": {},
   "outputs": [
    {
     "data": {
      "text/html": [
       "<div>\n",
       "<table border=\"1\" class=\"dataframe\">\n",
       "  <thead>\n",
       "    <tr style=\"text-align: right;\">\n",
       "      <th></th>\n",
       "      <th>yeahhh</th>\n",
       "    </tr>\n",
       "  </thead>\n",
       "  <tbody>\n",
       "    <tr>\n",
       "      <th>train_score</th>\n",
       "      <td>1.00</td>\n",
       "    </tr>\n",
       "    <tr>\n",
       "      <th>val_score</th>\n",
       "      <td>0.87</td>\n",
       "    </tr>\n",
       "  </tbody>\n",
       "</table>\n",
       "</div>"
      ],
      "text/plain": [
       "             yeahhh\n",
       "train_score    1.00\n",
       "val_score      0.87"
      ]
     },
     "execution_count": 32,
     "metadata": {},
     "output_type": "execute_result"
    }
   ],
   "source": [
    "ma_yeahhh.train_val_scorer_df_maker([28, 105, 153, 281, 318, 336, 338, 442, 472, 475], 'yeahhh',\\\n",
    "                                   model=RandomForestClassifier, \\\n",
    "                                   params=rf_params)"
   ]
  },
  {
   "cell_type": "code",
   "execution_count": 33,
   "metadata": {
    "scrolled": true
   },
   "outputs": [
    {
     "name": "stdout",
     "output_type": "stream",
     "text": [
      "Number of combinations: 455\n"
     ]
    }
   ],
   "source": [
    "rf_params = {\n",
    "    'n_estimators':[10,50,100,200],\n",
    "    'max_features':['auto','log2'],\n",
    "}\n",
    "\n",
    "bf_df = ma_yeahhh.brute_force_feature_combination_score_generator(best_score_list, \\\n",
    "                                                                  RandomForestClassifier, rf_params, 3)\n",
    "\n"
   ]
  },
  {
   "cell_type": "code",
   "execution_count": 82,
   "metadata": {},
   "outputs": [
    {
     "data": {
      "text/plain": [
       "[[105, 338, 475]]"
      ]
     },
     "execution_count": 82,
     "metadata": {},
     "output_type": "execute_result"
    }
   ],
   "source": [
    "sorted([ma_yeahhh.make_set_from_list_of_lists(bf_df['features'][:1].values)])"
   ]
  },
  {
   "cell_type": "code",
   "execution_count": 86,
   "metadata": {},
   "outputs": [
    {
     "data": {
      "text/plain": [
       "[[105, 338, 475]]"
      ]
     },
     "execution_count": 86,
     "metadata": {},
     "output_type": "execute_result"
    }
   ],
   "source": [
    "[sorted(x) for x in bf_df['features'][:1].values]"
   ]
  },
  {
   "cell_type": "code",
   "execution_count": 87,
   "metadata": {},
   "outputs": [
    {
     "data": {
      "text/plain": [
       "True"
      ]
     },
     "execution_count": 87,
     "metadata": {},
     "output_type": "execute_result"
    }
   ],
   "source": [
    "[sorted(x) for x in bf_df['features'][:1].values] == \\\n",
    "sorted([ma_yeahhh.make_set_from_list_of_lists(bf_df['features'][:1].values)])"
   ]
  },
  {
   "cell_type": "code",
   "execution_count": 45,
   "metadata": {},
   "outputs": [],
   "source": [
    "yeahhh_train_val_score_df = ma_yeahhh.train_val_scorer_df_maker(ma_yeahhh.make_set_from_list_of_lists(bf_df['features'][:100].values), \\\n",
    "                                                                         'yeahhh', model=RandomForestClassifier, \\\n",
    "                                                                          params=rf_params) "
   ]
  },
  {
   "cell_type": "code",
   "execution_count": 50,
   "metadata": {},
   "outputs": [
    {
     "data": {
      "text/html": [
       "<div>\n",
       "<table border=\"1\" class=\"dataframe\">\n",
       "  <thead>\n",
       "    <tr style=\"text-align: right;\">\n",
       "      <th></th>\n",
       "      <th>train_score</th>\n",
       "      <th>val_score</th>\n",
       "    </tr>\n",
       "  </thead>\n",
       "  <tbody>\n",
       "    <tr>\n",
       "      <th>yeahhh</th>\n",
       "      <td>1.0</td>\n",
       "      <td>0.898333</td>\n",
       "    </tr>\n",
       "  </tbody>\n",
       "</table>\n",
       "</div>"
      ],
      "text/plain": [
       "        train_score  val_score\n",
       "yeahhh          1.0   0.898333"
      ]
     },
     "execution_count": 50,
     "metadata": {},
     "output_type": "execute_result"
    }
   ],
   "source": [
    "yeahhh_train_val_score_df.T"
   ]
  },
  {
   "cell_type": "code",
   "execution_count": 102,
   "metadata": {
    "scrolled": false
   },
   "outputs": [],
   "source": [
    "# # Commented out bc it takes so long to run this cell.\n",
    "\n",
    "# val_df = {}\n",
    "\n",
    "# for i in range(1,400,2):\n",
    "#     train_val_df_temp = ma_yeahhh.train_val_scorer_df_maker(ma_yeahhh.make_set_from_list_of_lists(bf_df['features'][:i].values), \\\n",
    "#                                                                          'yeahhh', model=RandomForestClassifier, \\\n",
    "#                                                                           params=rf_params) \n",
    "#     val_df[i] = {'val_score': train_val_df_temp.T['val_score']}\n",
    "        \n",
    "# val_df"
   ]
  },
  {
   "cell_type": "code",
   "execution_count": 40,
   "metadata": {},
   "outputs": [
    {
     "data": {
      "text/plain": [
       "dict_keys([28, 48, 64, 105, 241, 281, 318, 336, 338, 378, 433, 442, 451, 453, 455, 472, 475, 493])"
      ]
     },
     "execution_count": 40,
     "metadata": {},
     "output_type": "execute_result"
    }
   ],
   "source": [
    "test_features_for_normal(train_uci_df, top_20_real_features)"
   ]
  },
  {
   "cell_type": "markdown",
   "metadata": {},
   "source": [
    "### PCA on UCI Data"
   ]
  },
  {
   "cell_type": "code",
   "execution_count": 138,
   "metadata": {},
   "outputs": [],
   "source": [
    "from sklearn.decomposition import PCA"
   ]
  },
  {
   "cell_type": "code",
   "execution_count": 145,
   "metadata": {
    "scrolled": true
   },
   "outputs": [],
   "source": [
    "pca = PCA(n_components=5)\n",
    "\n",
    "pca_vec = pca.fit(train_uci_df[:-1])"
   ]
  },
  {
   "cell_type": "code",
   "execution_count": 146,
   "metadata": {},
   "outputs": [
    {
     "data": {
      "text/plain": [
       "array([ 0.10391106,  0.08555041,  0.05470548,  0.02294792,  0.01028483])"
      ]
     },
     "execution_count": 146,
     "metadata": {},
     "output_type": "execute_result"
    }
   ],
   "source": [
    "pca.explained_variance_ratio_"
   ]
  },
  {
   "cell_type": "markdown",
   "metadata": {},
   "source": [
    "### Large Dataset Analysis"
   ]
  },
  {
   "cell_type": "code",
   "execution_count": null,
   "metadata": {},
   "outputs": [],
   "source": []
  }
 ],
 "metadata": {
  "kernelspec": {
   "display_name": "Python 3",
   "language": "python",
   "name": "python3"
  },
  "language_info": {
   "codemirror_mode": {
    "name": "ipython",
    "version": 3
   },
   "file_extension": ".py",
   "mimetype": "text/x-python",
   "name": "python",
   "nbconvert_exporter": "python",
   "pygments_lexer": "ipython3",
   "version": "3.6.2"
  }
 },
 "nbformat": 4,
 "nbformat_minor": 2
}
